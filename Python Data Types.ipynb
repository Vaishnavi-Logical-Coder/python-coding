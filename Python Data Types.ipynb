{
 "cells": [
  {
   "cell_type": "markdown",
   "id": "ce7ea276",
   "metadata": {},
   "source": [
    "# Execute Python Syntax\n",
    "\n",
    "\n",
    "Python syntax can be executed by writing directly in the code"
   ]
  },
  {
   "cell_type": "code",
   "execution_count": null,
   "id": "0d72d324",
   "metadata": {},
   "outputs": [],
   "source": [
    "print(\"hello world\") # ' ' or \" \" or \"\"\"    \"\"\""
   ]
  },
  {
   "cell_type": "code",
   "execution_count": 1,
   "id": "3cd88345",
   "metadata": {},
   "outputs": [
    {
     "name": "stdout",
     "output_type": "stream",
     "text": [
      "hi\n"
     ]
    }
   ],
   "source": [
    "x=\"hi\"\n",
    "print(x)"
   ]
  },
  {
   "cell_type": "code",
   "execution_count": 2,
   "id": "5efb98a9",
   "metadata": {},
   "outputs": [
    {
     "name": "stdout",
     "output_type": "stream",
     "text": [
      "hello\n"
     ]
    }
   ],
   "source": [
    "x='hello'\n",
    "print(x)"
   ]
  },
  {
   "cell_type": "code",
   "execution_count": 3,
   "id": "db75e5e0",
   "metadata": {},
   "outputs": [
    {
     "name": "stdout",
     "output_type": "stream",
     "text": [
      "python \n"
     ]
    }
   ],
   "source": [
    "y=\"\"\"python \"\"\"\n",
    "print(y)"
   ]
  },
  {
   "cell_type": "code",
   "execution_count": null,
   "id": "bf9633a3",
   "metadata": {},
   "outputs": [],
   "source": [
    "print(\"hi\")"
   ]
  },
  {
   "cell_type": "markdown",
   "id": "f761e916",
   "metadata": {},
   "source": [
    "# Python Indentation\n",
    "\n",
    "Indentation refers to the space at the beginning of a code line.\n",
    "\n",
    "Where in other programming languages the indentation in code is for readability only, the indentation in Python is very important.\n"
   ]
  },
  {
   "cell_type": "code",
   "execution_count": 4,
   "id": "5491d089",
   "metadata": {},
   "outputs": [
    {
     "name": "stdout",
     "output_type": "stream",
     "text": [
      "Ten is greater than five\n"
     ]
    }
   ],
   "source": [
    "if 10>5:\n",
    "    print(\"Ten is greater than five\")\n",
    "    "
   ]
  },
  {
   "cell_type": "markdown",
   "id": "c72045f2",
   "metadata": {},
   "source": [
    "### Python will give you an error if you skip the indentation:"
   ]
  },
  {
   "cell_type": "code",
   "execution_count": 6,
   "id": "75ae3d8f",
   "metadata": {},
   "outputs": [
    {
     "name": "stdout",
     "output_type": "stream",
     "text": [
      "five is greater than two\n"
     ]
    }
   ],
   "source": [
    "if 5>2:\n",
    "    print(\"five is greater than two\")"
   ]
  },
  {
   "cell_type": "markdown",
   "id": "4095379e",
   "metadata": {},
   "source": [
    "# Python Variables\n",
    "\n",
    "In python ,variables are created when you assign a value to it."
   ]
  },
  {
   "cell_type": "code",
   "execution_count": null,
   "id": "18bc9b65",
   "metadata": {},
   "outputs": [],
   "source": [
    "# valied\n",
    "myvar = 10\n",
    "my_var = 10\n",
    "MyVar = 10\n",
    "Myvar1 = 10\n",
    "my_Var_1 = 10\n",
    "\n",
    "\n",
    "# Invalied\n",
    "My Var = 10\n",
    "My-var = 10\n",
    "1_myvar = 10"
   ]
  },
  {
   "cell_type": "code",
   "execution_count": 7,
   "id": "6edce335",
   "metadata": {},
   "outputs": [
    {
     "name": "stdout",
     "output_type": "stream",
     "text": [
      "5\n",
      "hi\n"
     ]
    }
   ],
   "source": [
    "x=5 # =\n",
    "y=\"hi\"# string\n",
    "print(x)\n",
    "print(y)"
   ]
  },
  {
   "cell_type": "code",
   "execution_count": 12,
   "id": "525d99b3",
   "metadata": {},
   "outputs": [
    {
     "name": "stdout",
     "output_type": "stream",
     "text": [
      "Python\n",
      "name\n",
      "program\n",
      "python\n"
     ]
    }
   ],
   "source": [
    "name = \"Python\"\n",
    "print(name)\n",
    "print(\"name\")\n",
    "\n",
    "print(\"program\" ) # error\n",
    "\n",
    "print('python') "
   ]
  },
  {
   "cell_type": "markdown",
   "id": "493c725b",
   "metadata": {},
   "source": [
    "# Python Comments\n",
    "\n",
    "Comments can be used to explain Python code.\n",
    "\n",
    "Comments can be used to make the code more readable.\n",
    "\n",
    "Comments starts with a #, and Python will ignore them:\n"
   ]
  },
  {
   "cell_type": "code",
   "execution_count": 13,
   "id": "d65403e1",
   "metadata": {},
   "outputs": [
    {
     "name": "stdout",
     "output_type": "stream",
     "text": [
      "Hello, World!\n"
     ]
    }
   ],
   "source": [
    "#This is a comment\n",
    "print(\"Hello, World!\")"
   ]
  },
  {
   "cell_type": "markdown",
   "id": "c786057f",
   "metadata": {},
   "source": [
    "# Multi Line Comments\n",
    "\n",
    "Python does not really have a syntax for multi line comments.\n",
    "\n",
    "To add a multiline comment you could insert a # for each line:"
   ]
  },
  {
   "cell_type": "code",
   "execution_count": null,
   "id": "5f61fc57",
   "metadata": {},
   "outputs": [],
   "source": [
    "# This is a comment\n",
    "# written in\n",
    "# more than just one line\n",
    "print(\"Hello, World!\")"
   ]
  },
  {
   "cell_type": "code",
   "execution_count": 16,
   "id": "55a16278",
   "metadata": {},
   "outputs": [
    {
     "data": {
      "text/plain": [
       "30"
      ]
     },
     "execution_count": 16,
     "metadata": {},
     "output_type": "execute_result"
    }
   ],
   "source": [
    "def add():\n",
    "    \"\"\"\n",
    "    This function is ti add the two num\n",
    "    \n",
    "    \"\"\"\n",
    "    a= 10\n",
    "    b=20\n",
    "    return a+b\n",
    "add()"
   ]
  },
  {
   "cell_type": "code",
   "execution_count": null,
   "id": "c26b000c",
   "metadata": {},
   "outputs": [],
   "source": [
    "\"\"\"\n",
    "This is a comment\n",
    "written in\n",
    "more than just one line\n",
    "\"\"\"    # Doc string comment\n",
    "print(\"Hello, World!\")"
   ]
  },
  {
   "cell_type": "markdown",
   "id": "5d5158f5",
   "metadata": {},
   "source": [
    " # Built-in Data Types"
   ]
  },
  {
   "cell_type": "markdown",
   "id": "9103eb10",
   "metadata": {},
   "source": [
    "### In programming, data type is an important concept.\n",
    "\n",
    "### Variables can store data of different types, and different types can do different things.\n",
    "\n",
    "### Python has the following data types built-in by default, in these categories:\n",
    "\n",
    "1. Text Type  :\tstr\n",
    "2. Numeric Types  :\tint, float, complex\n",
    "3. Sequence Types :\tlist, tuple, range\n",
    "4. Mapping Type :\tdict\n",
    "5. Set Types  :\tset, frozenset\n",
    "6. Boolean Type  :\tbool\n"
   ]
  },
  {
   "cell_type": "code",
   "execution_count": null,
   "id": "8dd94ba1",
   "metadata": {},
   "outputs": [],
   "source": [
    "x=4\n",
    "print(type(x))"
   ]
  },
  {
   "cell_type": "markdown",
   "id": "dc823ac1",
   "metadata": {},
   "source": [
    "# Setting the Data Type\n",
    "In Python, the data type is set when you assign a value to a variable"
   ]
  },
  {
   "cell_type": "code",
   "execution_count": 17,
   "id": "e56100f9",
   "metadata": {},
   "outputs": [
    {
     "name": "stdout",
     "output_type": "stream",
     "text": [
      "<class 'str'>\n"
     ]
    }
   ],
   "source": [
    "# string # Strings in python are surrounded by either single quotation marks,\n",
    "#or double quotation marks.\n",
    "x=\"hello world\"\n",
    "print(type(x))"
   ]
  },
  {
   "cell_type": "code",
   "execution_count": 18,
   "id": "0215bee4",
   "metadata": {},
   "outputs": [
    {
     "name": "stdout",
     "output_type": "stream",
     "text": [
      "<class 'int'>\n"
     ]
    }
   ],
   "source": [
    "# int  # integer number \n",
    "\n",
    "x= 10\n",
    "print(type(x))"
   ]
  },
  {
   "cell_type": "code",
   "execution_count": 19,
   "id": "9a79661d",
   "metadata": {},
   "outputs": [
    {
     "name": "stdout",
     "output_type": "stream",
     "text": [
      "<class 'float'>\n"
     ]
    }
   ],
   "source": [
    "# float, \"floating point number\" is a number, positive or negative, \n",
    "#containing one or more decimals.\n",
    "\n",
    "x=10.5\n",
    "print(type(x))"
   ]
  },
  {
   "cell_type": "code",
   "execution_count": 20,
   "id": "46f05ffb",
   "metadata": {},
   "outputs": [
    {
     "name": "stdout",
     "output_type": "stream",
     "text": [
      "<class 'complex'>\n"
     ]
    }
   ],
   "source": [
    "# complex ,Complex numbers are written with a \"j\" as the imaginary part\n",
    "\n",
    "x= 2j+1\n",
    "print(type(x))"
   ]
  },
  {
   "cell_type": "code",
   "execution_count": 21,
   "id": "06ede02b",
   "metadata": {},
   "outputs": [
    {
     "name": "stdout",
     "output_type": "stream",
     "text": [
      "<class 'list'>\n"
     ]
    }
   ],
   "source": [
    "# list,Lists are used to store multiple items in a single variable.\n",
    "\n",
    "x=[\"apple\",\"banana\",\"mango\"]\n",
    "print(type(x))"
   ]
  },
  {
   "cell_type": "code",
   "execution_count": 23,
   "id": "805acc7d",
   "metadata": {},
   "outputs": [
    {
     "name": "stdout",
     "output_type": "stream",
     "text": [
      "['apple', 12, 12.4, 4j]\n",
      "<class 'list'>\n"
     ]
    }
   ],
   "source": [
    "y=[\"apple\",12,12.4,4j]\n",
    "print(y)\n",
    "print(type(y))"
   ]
  },
  {
   "cell_type": "code",
   "execution_count": 24,
   "id": "3e72f585",
   "metadata": {},
   "outputs": [
    {
     "name": "stdout",
     "output_type": "stream",
     "text": [
      "<class 'tuple'>\n"
     ]
    }
   ],
   "source": [
    "# tuple, are used to store multiple items in a single variable.\n",
    "# \n",
    "x=(\"orange\",\"grapes\",\"guava\")\n",
    "print(type(x))"
   ]
  },
  {
   "cell_type": "code",
   "execution_count": 25,
   "id": "3ec1c548",
   "metadata": {},
   "outputs": [
    {
     "name": "stdout",
     "output_type": "stream",
     "text": [
      "range(0, 6)\n",
      "<class 'range'>\n"
     ]
    }
   ],
   "source": [
    "# range    \n",
    "\n",
    "x=range(6)\n",
    "print(x)\n",
    "print(type(x))"
   ]
  },
  {
   "cell_type": "code",
   "execution_count": 26,
   "id": "382947fb",
   "metadata": {},
   "outputs": [
    {
     "name": "stdout",
     "output_type": "stream",
     "text": [
      "0\n",
      "1\n",
      "2\n",
      "3\n",
      "4\n",
      "5\n"
     ]
    }
   ],
   "source": [
    "for i in range(6): # 0 to n-1\n",
    "    print(i) "
   ]
  },
  {
   "cell_type": "code",
   "execution_count": 28,
   "id": "61c657ca",
   "metadata": {},
   "outputs": [
    {
     "name": "stdout",
     "output_type": "stream",
     "text": [
      "2 3 4 5 6 7 8 9 "
     ]
    }
   ],
   "source": [
    "for i in range(2,10): # 2 to n-1\n",
    "    print(i,end=\" \")"
   ]
  },
  {
   "cell_type": "code",
   "execution_count": 31,
   "id": "c9592f64",
   "metadata": {},
   "outputs": [
    {
     "name": "stdout",
     "output_type": "stream",
     "text": [
      "{'name': 'chandana', 'place': 'hyderabad', 'age': 12}\n",
      "<class 'dict'>\n"
     ]
    }
   ],
   "source": [
    "# dict ,Dictionaries are used to store data values in key:value pairs.\n",
    "# Dictionaries are written with curly brackets, and have keys and values\n",
    "\n",
    "x={\"name\":\"chandana\",\"place\":\"hyderabad\",\"age\":12}\n",
    "print(x)\n",
    "print(type(x))"
   ]
  },
  {
   "cell_type": "code",
   "execution_count": 33,
   "id": "c94314b7",
   "metadata": {},
   "outputs": [
    {
     "name": "stdout",
     "output_type": "stream",
     "text": [
      "{'phone', 'table', 'chair'}\n",
      "<class 'set'>\n"
     ]
    }
   ],
   "source": [
    "# set,Sets are used to store multiple items in a single variable.\n",
    "# Sets are written with curly brackets\n",
    "\n",
    "x={\"table\",\"chair\",\"phone\",}\n",
    "print(x)\n",
    "print(type(x))"
   ]
  },
  {
   "cell_type": "code",
   "execution_count": 34,
   "id": "2e9d6db3",
   "metadata": {},
   "outputs": [
    {
     "name": "stdout",
     "output_type": "stream",
     "text": [
      "{1, 2, 3, 5, 6, 7, 8, 9, 10, 12, 13}\n"
     ]
    }
   ],
   "source": [
    "y={1,2,3,5,6,7,8,9,1,2,3,5,10,12,13}\n",
    "print(y)"
   ]
  },
  {
   "cell_type": "code",
   "execution_count": 1,
   "id": "ac3b1cb5",
   "metadata": {},
   "outputs": [
    {
     "name": "stdout",
     "output_type": "stream",
     "text": [
      "<class 'frozenset'>\n"
     ]
    }
   ],
   "source": [
    "# frozenset,As it is a set object therefore we cannot have\n",
    "#duplicate values in the frozenset.\n",
    "\n",
    "x=frozenset({\"laptop\",\"computer\"})\n",
    "print(type(x))"
   ]
  },
  {
   "cell_type": "code",
   "execution_count": 35,
   "id": "c9e69fe7",
   "metadata": {},
   "outputs": [
    {
     "name": "stdout",
     "output_type": "stream",
     "text": [
      "<class 'bool'>\n"
     ]
    }
   ],
   "source": [
    "# bool # Booleans represent one of two values: True or False.\n",
    "x=True\n",
    "print(type(x))"
   ]
  },
  {
   "cell_type": "code",
   "execution_count": 36,
   "id": "2e069c6a",
   "metadata": {},
   "outputs": [
    {
     "name": "stdout",
     "output_type": "stream",
     "text": [
      "<class 'bool'>\n"
     ]
    }
   ],
   "source": [
    "x=False\n",
    "print(type(x))"
   ]
  },
  {
   "cell_type": "markdown",
   "id": "17cb09c7",
   "metadata": {},
   "source": [
    "When you compare two values, the expression is evaluated and Python returns the Boolean answer"
   ]
  },
  {
   "cell_type": "code",
   "execution_count": 40,
   "id": "1ec821ed",
   "metadata": {},
   "outputs": [
    {
     "name": "stdout",
     "output_type": "stream",
     "text": [
      "False\n",
      "False\n",
      "True\n"
     ]
    }
   ],
   "source": [
    "print(10 < 9)\n",
    "print(10 == 9)\n",
    "print(10 > 9)"
   ]
  },
  {
   "cell_type": "code",
   "execution_count": 41,
   "id": "05416d09",
   "metadata": {},
   "outputs": [
    {
     "name": "stdout",
     "output_type": "stream",
     "text": [
      "<class 'NoneType'>\n"
     ]
    }
   ],
   "source": [
    "# none\n",
    "x=None\n",
    "print(type(x))"
   ]
  },
  {
   "cell_type": "markdown",
   "id": "de2fcae4",
   "metadata": {},
   "source": [
    "# Setting the Specific Data Type or Type conversion\n",
    "If you want to specify the data type, you can use the following constructor functions"
   ]
  },
  {
   "cell_type": "code",
   "execution_count": 42,
   "id": "4a55e9b4",
   "metadata": {},
   "outputs": [
    {
     "name": "stdout",
     "output_type": "stream",
     "text": [
      "1729\n",
      "<class 'int'>\n"
     ]
    }
   ],
   "source": [
    "\n",
    "x=1729\n",
    "print(x)\n",
    "print(type(x))"
   ]
  },
  {
   "cell_type": "code",
   "execution_count": 43,
   "id": "62c3f7a1",
   "metadata": {},
   "outputs": [
    {
     "name": "stdout",
     "output_type": "stream",
     "text": [
      "<class 'tuple'>\n"
     ]
    }
   ],
   "source": [
    "x=(\"car\",1000000,)#tuple\n",
    "print(type(x))"
   ]
  },
  {
   "cell_type": "code",
   "execution_count": 45,
   "id": "64376e64",
   "metadata": {},
   "outputs": [
    {
     "name": "stdout",
     "output_type": "stream",
     "text": [
      "1729\n",
      "<class 'str'>\n"
     ]
    }
   ],
   "source": [
    "# string\n",
    "x=str(1729) # here iam creating initially number has a string\n",
    "print(x)\n",
    "print(type(x))"
   ]
  },
  {
   "cell_type": "code",
   "execution_count": 46,
   "id": "cd2749d0",
   "metadata": {},
   "outputs": [
    {
     "name": "stdout",
     "output_type": "stream",
     "text": [
      "['p', 'y', 't', 'h', 'o', 'n']\n",
      "<class 'list'>\n"
     ]
    }
   ],
   "source": [
    "y=list(\"python\")\n",
    "print(y)\n",
    "print(type(y))"
   ]
  },
  {
   "cell_type": "code",
   "execution_count": 47,
   "id": "f72c84a5",
   "metadata": {},
   "outputs": [
    {
     "name": "stdout",
     "output_type": "stream",
     "text": [
      "['h', 'e', 'l', 'l', 'o', ' ', 'w', 'o', 'r', 'l', 'd']\n",
      "<class 'list'>\n"
     ]
    }
   ],
   "source": [
    "x=list(\"hello world\")\n",
    "\n",
    "print(x)\n",
    "print(type(x))"
   ]
  },
  {
   "cell_type": "code",
   "execution_count": 48,
   "id": "cc26c572",
   "metadata": {},
   "outputs": [
    {
     "name": "stdout",
     "output_type": "stream",
     "text": [
      "hello world\n",
      "<class 'str'>\n"
     ]
    }
   ],
   "source": [
    "# string\n",
    "x=str(\"hello world\")\n",
    "print(x)\n",
    "print(type(x))"
   ]
  },
  {
   "cell_type": "code",
   "execution_count": 49,
   "id": "54b65e28",
   "metadata": {},
   "outputs": [
    {
     "name": "stdout",
     "output_type": "stream",
     "text": [
      "python\n"
     ]
    }
   ],
   "source": [
    "x=\"python\"\n",
    "print(x)"
   ]
  },
  {
   "cell_type": "code",
   "execution_count": 50,
   "id": "72c964e3",
   "metadata": {},
   "outputs": [
    {
     "name": "stdout",
     "output_type": "stream",
     "text": [
      "Good morning\n",
      "<class 'str'>\n"
     ]
    }
   ],
   "source": [
    "y=str(\"Good morning\")\n",
    "print(y)\n",
    "print(type(y))"
   ]
  },
  {
   "cell_type": "code",
   "execution_count": 51,
   "id": "89aba590",
   "metadata": {},
   "outputs": [
    {
     "name": "stdout",
     "output_type": "stream",
     "text": [
      "20\n",
      "<class 'int'>\n"
     ]
    }
   ],
   "source": [
    "# int\n",
    "x=int(20)\n",
    "print(x)\n",
    "print(type(x))\n"
   ]
  },
  {
   "cell_type": "code",
   "execution_count": 52,
   "id": "9dca74e2",
   "metadata": {},
   "outputs": [
    {
     "name": "stdout",
     "output_type": "stream",
     "text": [
      "12\n",
      "<class 'int'>\n"
     ]
    }
   ],
   "source": [
    "my_self=int(\"12\")\n",
    "print(my_self)\n",
    "print(type(my_self))"
   ]
  },
  {
   "cell_type": "code",
   "execution_count": 53,
   "id": "2ff103fc",
   "metadata": {},
   "outputs": [
    {
     "name": "stdout",
     "output_type": "stream",
     "text": [
      "12.0\n",
      "<class 'float'>\n"
     ]
    }
   ],
   "source": [
    "# float\n",
    "x=float(12.0)\n",
    "print(x)\n",
    "print(type(x))"
   ]
  },
  {
   "cell_type": "code",
   "execution_count": 54,
   "id": "e26805ce",
   "metadata": {},
   "outputs": [
    {
     "name": "stdout",
     "output_type": "stream",
     "text": [
      "1j\n",
      "<class 'complex'>\n"
     ]
    }
   ],
   "source": [
    "# complex\n",
    "x=complex(1j)\n",
    "print(x)\n",
    "print(type(x))"
   ]
  },
  {
   "cell_type": "code",
   "execution_count": 55,
   "id": "d485e553",
   "metadata": {},
   "outputs": [
    {
     "name": "stdout",
     "output_type": "stream",
     "text": [
      "[1, 2, 3, 4, 4, 5]\n",
      "<class 'list'>\n"
     ]
    }
   ],
   "source": [
    "# list\n",
    "x=[1,2,3,4,4,5] \n",
    "print(x)\n",
    "print(type(x))"
   ]
  },
  {
   "cell_type": "code",
   "execution_count": null,
   "id": "ea06aab8",
   "metadata": {},
   "outputs": [],
   "source": [
    "x=list((\"apple\",\"banana\",\"orange\"))\n",
    "print(x)\n",
    "print(type(x))"
   ]
  },
  {
   "cell_type": "code",
   "execution_count": 56,
   "id": "5b8ce1d1",
   "metadata": {},
   "outputs": [
    {
     "name": "stdout",
     "output_type": "stream",
     "text": [
      "(1, 2, 3, 3, 4)\n"
     ]
    }
   ],
   "source": [
    "x=(1,2,3,3,4)\n",
    "print(x)"
   ]
  },
  {
   "cell_type": "code",
   "execution_count": 57,
   "id": "ec26514e",
   "metadata": {},
   "outputs": [
    {
     "name": "stdout",
     "output_type": "stream",
     "text": [
      "('A', 'B', 'C', 'D')\n",
      "<class 'tuple'>\n"
     ]
    }
   ],
   "source": [
    "# tuple\n",
    "x=tuple((\"A\",\"B\",\"C\",\"D\"))\n",
    "print(x)\n",
    "print(type(x))"
   ]
  },
  {
   "cell_type": "code",
   "execution_count": 58,
   "id": "5c4c6c89",
   "metadata": {},
   "outputs": [
    {
     "name": "stdout",
     "output_type": "stream",
     "text": [
      "range(0, 5)\n",
      "<class 'range'>\n"
     ]
    }
   ],
   "source": [
    "# range\n",
    "x=range(5)\n",
    "print(x)\n",
    "print(type(x))\n"
   ]
  },
  {
   "cell_type": "code",
   "execution_count": 2,
   "id": "0f9e5e6e",
   "metadata": {},
   "outputs": [
    {
     "name": "stdout",
     "output_type": "stream",
     "text": [
      "range(0, 10)\n",
      "<class 'range'>\n"
     ]
    }
   ],
   "source": [
    "y=range(10)\n",
    "print(y)\n",
    "print(type(y))"
   ]
  },
  {
   "cell_type": "code",
   "execution_count": null,
   "id": "d1f5acf1",
   "metadata": {},
   "outputs": [],
   "source": [
    "# dict\n",
    "x=dict(name=\"chandana\",location=\"hyderabad\")\n",
    "print(x)\n",
    "print(type(x))"
   ]
  },
  {
   "cell_type": "code",
   "execution_count": null,
   "id": "b4acd132",
   "metadata": {},
   "outputs": [],
   "source": [
    "# tuple\n",
    "x=((\"apple\",\"mango\",\"orange\"))\n",
    "print(x)\n",
    "print(type(x))"
   ]
  },
  {
   "cell_type": "markdown",
   "id": "0fca64f0",
   "metadata": {},
   "source": [
    "# frozenset\n",
    "A frozenset is an unordered, un-indexed, and immutable collection of elements. It provides all the functionalities that a set offers in Python, the only difference being the fact that a frozenset is immutable, i.e. can’t be changed after it is created."
   ]
  },
  {
   "cell_type": "code",
   "execution_count": null,
   "id": "e1a2fd04",
   "metadata": {},
   "outputs": [],
   "source": [
    "# frozenset\n",
    "\n",
    "x=frozenset((\"chandana\",\"kalyani\",\"maheshwari\"))\n",
    "print(x)\n",
    "print(type(x))"
   ]
  },
  {
   "cell_type": "code",
   "execution_count": 2,
   "id": "3ffe1583",
   "metadata": {},
   "outputs": [
    {
     "name": "stdout",
     "output_type": "stream",
     "text": [
      "frozenset({1, 2, 3, 4, 5, 6, 7})\n"
     ]
    }
   ],
   "source": [
    "x=frozenset((1,2,3,4,5,6,7))\n",
    "print(x)"
   ]
  },
  {
   "cell_type": "code",
   "execution_count": 1,
   "id": "77ed5a27",
   "metadata": {},
   "outputs": [
    {
     "name": "stdout",
     "output_type": "stream",
     "text": [
      "{1, 4, 5, 22, 13}\n",
      "frozenset({1, 4, 5, 22, 13})\n",
      "frozenset({'h', 'l', 'e', 'o'})\n",
      "frozenset({'a', 'o', 'h', 'r', 'n', 'P', 'm', ' ', 't', 'y', 'g'})\n"
     ]
    }
   ],
   "source": [
    "s={1,22,13,4,5}\n",
    "print(s)\n",
    "\n",
    "fs=frozenset(s)\n",
    "print(fs)\n",
    "\n",
    "print(frozenset(\"hello\"))\n",
    "print(frozenset(\"Python Program\"))"
   ]
  },
  {
   "cell_type": "code",
   "execution_count": null,
   "id": "a5cca5a8",
   "metadata": {},
   "outputs": [],
   "source": [
    "# bool\n",
    "x=bool(6)\n",
    "print(x)\n",
    "print(type(x))"
   ]
  },
  {
   "cell_type": "code",
   "execution_count": null,
   "id": "99f0f4fe",
   "metadata": {},
   "outputs": [],
   "source": [
    "# converting tuple to frozenset"
   ]
  },
  {
   "cell_type": "code",
   "execution_count": null,
   "id": "d7a4a51d",
   "metadata": {
    "scrolled": true
   },
   "outputs": [],
   "source": [
    "x= frozenset((\"a\",\"b\",\"c\",\"d\")) # frozen set is unorder\n",
    "print(x)"
   ]
  },
  {
   "cell_type": "code",
   "execution_count": null,
   "id": "c28574dd",
   "metadata": {},
   "outputs": [],
   "source": []
  },
  {
   "cell_type": "code",
   "execution_count": null,
   "id": "9eb599ea",
   "metadata": {},
   "outputs": [],
   "source": [
    "x=frozenset((1,2,3,4,5))\n",
    "print(x)"
   ]
  },
  {
   "cell_type": "code",
   "execution_count": null,
   "id": "c8cd37f2",
   "metadata": {},
   "outputs": [],
   "source": [
    "x=frozenset((1,2,3,4,5,6,7,8,9,0,1,2,3,4,5,6))\n",
    "x"
   ]
  },
  {
   "cell_type": "code",
   "execution_count": null,
   "id": "8154fce7",
   "metadata": {},
   "outputs": [],
   "source": [
    "x=frozenset((\"apple\",\"orange\",\"cherry\",\"mango\",\"banana\"))\n",
    "x"
   ]
  },
  {
   "cell_type": "code",
   "execution_count": null,
   "id": "94d99d24",
   "metadata": {},
   "outputs": [],
   "source": []
  }
 ],
 "metadata": {
  "kernelspec": {
   "display_name": "Python 3 (ipykernel)",
   "language": "python",
   "name": "python3"
  },
  "language_info": {
   "codemirror_mode": {
    "name": "ipython",
    "version": 3
   },
   "file_extension": ".py",
   "mimetype": "text/x-python",
   "name": "python",
   "nbconvert_exporter": "python",
   "pygments_lexer": "ipython3",
   "version": "3.9.13"
  }
 },
 "nbformat": 4,
 "nbformat_minor": 5
}
